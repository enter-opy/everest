{
 "cells": [
  {
   "cell_type": "code",
   "execution_count": 3,
   "id": "db3d8296",
   "metadata": {},
   "outputs": [],
   "source": [
    "import json\n",
    "import numpy as np\n",
    "from sklearn.model_selection import train_test_split\n",
    "import tensorflow.keras as keras\n",
    "from tensorflow.keras.models import Sequential\n",
    "from tensorflow.keras.layers import Conv1D, LSTM, Dense, Flatten, Reshape\n",
    "import matplotlib.pyplot as plt"
   ]
  },
  {
   "cell_type": "code",
   "execution_count": 77,
   "id": "418566dc",
   "metadata": {},
   "outputs": [],
   "source": [
    "inputs = []\n",
    "targets = []"
   ]
  },
  {
   "cell_type": "code",
   "execution_count": 78,
   "id": "c7fd0d10",
   "metadata": {},
   "outputs": [],
   "source": [
    "for i in range(52):\n",
    "    with open('data.json', 'r') as fp:\n",
    "        data = json.load(fp)\n",
    "        inputs = inputs + data['roi']\n",
    "        targets = targets + data['peak']"
   ]
  },
  {
   "cell_type": "code",
   "execution_count": 79,
   "id": "e2009b66",
   "metadata": {},
   "outputs": [],
   "source": [
    "inputs = np.array(inputs)\n",
    "targets = np.array(targets)"
   ]
  },
  {
   "cell_type": "code",
   "execution_count": 80,
   "id": "95eb2555",
   "metadata": {},
   "outputs": [],
   "source": [
    "X_train, X_test, y_train, y_test = train_test_split(inputs, targets, test_size=0.1)\n",
    "X_train, X_validation, y_train, y_validation = train_test_split(inputs, targets, test_size=0.1)\n",
    "X_train = X_train[..., np.newaxis]\n",
    "X_test = X_test[..., np.newaxis]\n",
    "X_validation = X_validation[..., np.newaxis]"
   ]
  },
  {
   "cell_type": "code",
   "execution_count": 81,
   "id": "f828b4a6",
   "metadata": {},
   "outputs": [
    {
     "data": {
      "text/plain": [
       "(20, 1)"
      ]
     },
     "execution_count": 81,
     "metadata": {},
     "output_type": "execute_result"
    }
   ],
   "source": [
    "X_train.shape\n",
    "input_shape=X_train[0].shape\n",
    "input_shape"
   ]
  },
  {
   "cell_type": "code",
   "execution_count": 82,
   "id": "277b9847",
   "metadata": {},
   "outputs": [
    {
     "data": {
      "text/plain": [
       "[<matplotlib.lines.Line2D at 0x25783f67c10>]"
      ]
     },
     "execution_count": 82,
     "metadata": {},
     "output_type": "execute_result"
    },
    {
     "data": {
      "image/png": "[encoded data removed]",
      "text/plain": [
       "<Figure size 640x480 with 1 Axes>"
      ]
     },
     "metadata": {},
     "output_type": "display_data"
    }
   ],
   "source": [
    "plt.plot(X_train[50])"
   ]
  },
  {
   "cell_type": "code",
   "execution_count": 83,
   "id": "6e3322b7",
   "metadata": {
    "scrolled": true
   },
   "outputs": [],
   "source": [
    "model = Sequential()\n",
    "\n",
    "model.add(Conv1D(filters=20, kernel_size=3, activation='relu', input_shape=input_shape))\n",
    "\n",
    "model.add(Conv1D(filters=20, kernel_size=3, activation='relu'))\n",
    "\n",
    "model.add(Conv1D(filters=16, kernel_size=3, activation='relu'))\n",
    "\n",
    "model.add(Conv1D(filters=8, kernel_size=3, activation='relu'))\n",
    "\n",
    "model.add(Conv1D(filters=8, kernel_size=3, activation='relu'))\n",
    "\n",
    "model.add(Flatten())\n",
    "\n",
    "model.add(Dense(8, activation='relu'))\n",
    "\n",
    "model.add(Dense(16, activation='relu'))\n",
    "\n",
    "model.add(Dense(8, activation='relu'))\n",
    "\n",
    "model.add(Dense(4, activation='relu'))\n",
    "\n",
    "model.add(Dense(1, activation='sigmoid'))"
   ]
  },
  {
   "cell_type": "code",
   "execution_count": 84,
   "id": "7d64d11c",
   "metadata": {},
   "outputs": [],
   "source": [
    "model.compile(optimizer=keras.optimizers.Adam(learning_rate=0.0001),\n",
    "              loss=keras.losses.BinaryCrossentropy(),\n",
    "              metrics=[keras.metrics.BinaryAccuracy()])"
   ]
  },
  {
   "cell_type": "code",
   "execution_count": 85,
   "id": "bfcce442",
   "metadata": {},
   "outputs": [
    {
     "name": "stdout",
     "output_type": "stream",
     "text": [
      "Model: \"sequential_9\"\n",
      "_________________________________________________________________\n",
      " Layer (type)                Output Shape              Param #   \n",
      "=================================================================\n",
      " conv1d_45 (Conv1D)          (None, 18, 20)            80        \n",
      "                                                                 \n",
      " conv1d_46 (Conv1D)          (None, 16, 20)            1220      \n",
      "                                                                 \n",
      " conv1d_47 (Conv1D)          (None, 14, 16)            976       \n",
      "                                                                 \n",
      " conv1d_48 (Conv1D)          (None, 12, 8)             392       \n",
      "                                                                 \n",
      " conv1d_49 (Conv1D)          (None, 10, 8)             200       \n",
      "                                                                 \n",
      " flatten_9 (Flatten)         (None, 80)                0         \n",
      "                                                                 \n",
      " dense_45 (Dense)            (None, 8)                 648       \n",
      "                                                                 \n",
      " dense_46 (Dense)            (None, 16)                144       \n",
      "                                                                 \n",
      " dense_47 (Dense)            (None, 8)                 136       \n",
      "                                                                 \n",
      " dense_48 (Dense)            (None, 4)                 36        \n",
      "                                                                 \n",
      " dense_49 (Dense)            (None, 1)                 5         \n",
      "                                                                 \n",
      "=================================================================\n",
      "Total params: 3,837\n",
      "Trainable params: 3,837\n",
      "Non-trainable params: 0\n",
      "_________________________________________________________________\n"
     ]
    }
   ],
   "source": [
    "model.summary()"
   ]
  },
  {
   "cell_type": "code",
   "execution_count": 86,
   "id": "d6a32c84",
   "metadata": {},
   "outputs": [
    {
     "name": "stdout",
     "output_type": "stream",
     "text": [
      "Epoch 1/50\n",
      "746/746 [==============================] - 2s 2ms/step - loss: 0.6709 - binary_accuracy: 0.7374 - val_loss: 0.5806 - val_binary_accuracy: 0.8718\n",
      "Epoch 2/50\n",
      "746/746 [==============================] - 1s 2ms/step - loss: 0.4743 - binary_accuracy: 0.8976 - val_loss: 0.3780 - val_binary_accuracy: 0.9231\n",
      "Epoch 3/50\n",
      "746/746 [==============================] - 1s 2ms/step - loss: 0.2275 - binary_accuracy: 0.9263 - val_loss: 0.1805 - val_binary_accuracy: 0.9363\n",
      "Epoch 4/50\n",
      "746/746 [==============================] - 1s 2ms/step - loss: 0.1722 - binary_accuracy: 0.9363 - val_loss: 0.1561 - val_binary_accuracy: 0.9419\n",
      "Epoch 5/50\n",
      "746/746 [==============================] - 1s 2ms/step - loss: 0.1538 - binary_accuracy: 0.9372 - val_loss: 0.1487 - val_binary_accuracy: 0.9431\n",
      "Epoch 6/50\n",
      "746/746 [==============================] - 1s 2ms/step - loss: 0.1436 - binary_accuracy: 0.9406 - val_loss: 0.1354 - val_binary_accuracy: 0.9438\n",
      "Epoch 7/50\n",
      "746/746 [==============================] - 1s 2ms/step - loss: 0.1375 - binary_accuracy: 0.9417 - val_loss: 0.1333 - val_binary_accuracy: 0.9510\n",
      "Epoch 8/50\n",
      "746/746 [==============================] - 1s 2ms/step - loss: 0.1330 - binary_accuracy: 0.9431 - val_loss: 0.1293 - val_binary_accuracy: 0.9502\n",
      "Epoch 9/50\n",
      "746/746 [==============================] - 1s 2ms/step - loss: 0.1290 - binary_accuracy: 0.9435 - val_loss: 0.1270 - val_binary_accuracy: 0.9521\n",
      "Epoch 10/50\n",
      "746/746 [==============================] - 1s 2ms/step - loss: 0.1261 - binary_accuracy: 0.9443 - val_loss: 0.1206 - val_binary_accuracy: 0.9498\n",
      "Epoch 11/50\n",
      "746/746 [==============================] - 1s 2ms/step - loss: 0.1222 - binary_accuracy: 0.9474 - val_loss: 0.1189 - val_binary_accuracy: 0.9514\n",
      "Epoch 12/50\n",
      "746/746 [==============================] - 1s 2ms/step - loss: 0.1190 - binary_accuracy: 0.9518 - val_loss: 0.1152 - val_binary_accuracy: 0.9574\n",
      "Epoch 13/50\n",
      "746/746 [==============================] - 1s 2ms/step - loss: 0.1151 - binary_accuracy: 0.9560 - val_loss: 0.1138 - val_binary_accuracy: 0.9570\n",
      "Epoch 14/50\n",
      "746/746 [==============================] - 1s 2ms/step - loss: 0.1134 - binary_accuracy: 0.9560 - val_loss: 0.1108 - val_binary_accuracy: 0.9627\n",
      "Epoch 15/50\n",
      "746/746 [==============================] - 1s 2ms/step - loss: 0.1110 - binary_accuracy: 0.9579 - val_loss: 0.1081 - val_binary_accuracy: 0.9585\n",
      "Epoch 16/50\n",
      "746/746 [==============================] - 1s 2ms/step - loss: 0.1086 - binary_accuracy: 0.9589 - val_loss: 0.1082 - val_binary_accuracy: 0.9581\n",
      "Epoch 17/50\n",
      "746/746 [==============================] - 1s 2ms/step - loss: 0.1062 - binary_accuracy: 0.9598 - val_loss: 0.1043 - val_binary_accuracy: 0.9638\n",
      "Epoch 18/50\n",
      "746/746 [==============================] - 1s 2ms/step - loss: 0.1045 - binary_accuracy: 0.9611 - val_loss: 0.1063 - val_binary_accuracy: 0.9597\n",
      "Epoch 19/50\n",
      "746/746 [==============================] - 1s 2ms/step - loss: 0.1023 - binary_accuracy: 0.9623 - val_loss: 0.1013 - val_binary_accuracy: 0.9653\n",
      "Epoch 20/50\n",
      "746/746 [==============================] - 1s 2ms/step - loss: 0.1005 - binary_accuracy: 0.9628 - val_loss: 0.1003 - val_binary_accuracy: 0.9627\n",
      "Epoch 21/50\n",
      "746/746 [==============================] - 1s 2ms/step - loss: 0.0981 - binary_accuracy: 0.9634 - val_loss: 0.0989 - val_binary_accuracy: 0.9619\n",
      "Epoch 22/50\n",
      "746/746 [==============================] - 1s 2ms/step - loss: 0.0962 - binary_accuracy: 0.9646 - val_loss: 0.0969 - val_binary_accuracy: 0.9721\n",
      "Epoch 23/50\n",
      "746/746 [==============================] - 1s 2ms/step - loss: 0.0941 - binary_accuracy: 0.9665 - val_loss: 0.0940 - val_binary_accuracy: 0.9698\n",
      "Epoch 24/50\n",
      "746/746 [==============================] - 1s 2ms/step - loss: 0.0924 - binary_accuracy: 0.9679 - val_loss: 0.0935 - val_binary_accuracy: 0.9759\n",
      "Epoch 25/50\n",
      "746/746 [==============================] - 1s 2ms/step - loss: 0.0895 - binary_accuracy: 0.9691 - val_loss: 0.0988 - val_binary_accuracy: 0.9679\n",
      "Epoch 26/50\n",
      "746/746 [==============================] - 1s 2ms/step - loss: 0.0875 - binary_accuracy: 0.9713 - val_loss: 0.0887 - val_binary_accuracy: 0.9762\n",
      "Epoch 27/50\n",
      "746/746 [==============================] - 1s 2ms/step - loss: 0.0849 - binary_accuracy: 0.9728 - val_loss: 0.0865 - val_binary_accuracy: 0.9793\n",
      "Epoch 28/50\n",
      "746/746 [==============================] - 1s 2ms/step - loss: 0.0838 - binary_accuracy: 0.9743 - val_loss: 0.0861 - val_binary_accuracy: 0.9751\n",
      "Epoch 29/50\n",
      "746/746 [==============================] - 1s 2ms/step - loss: 0.0816 - binary_accuracy: 0.9760 - val_loss: 0.0842 - val_binary_accuracy: 0.9793\n",
      "Epoch 30/50\n",
      "746/746 [==============================] - 1s 2ms/step - loss: 0.0799 - binary_accuracy: 0.9752 - val_loss: 0.0838 - val_binary_accuracy: 0.9778\n",
      "Epoch 31/50\n",
      "746/746 [==============================] - 1s 2ms/step - loss: 0.0775 - binary_accuracy: 0.9773 - val_loss: 0.0824 - val_binary_accuracy: 0.9706\n",
      "Epoch 32/50\n",
      "746/746 [==============================] - 1s 2ms/step - loss: 0.0762 - binary_accuracy: 0.9776 - val_loss: 0.0822 - val_binary_accuracy: 0.9789\n",
      "Epoch 33/50\n",
      "746/746 [==============================] - 1s 2ms/step - loss: 0.0753 - binary_accuracy: 0.9771 - val_loss: 0.0792 - val_binary_accuracy: 0.9793\n",
      "Epoch 34/50\n",
      "746/746 [==============================] - 1s 2ms/step - loss: 0.0741 - binary_accuracy: 0.9779 - val_loss: 0.0791 - val_binary_accuracy: 0.9778\n",
      "Epoch 35/50\n",
      "746/746 [==============================] - 1s 2ms/step - loss: 0.0753 - binary_accuracy: 0.9762 - val_loss: 0.0782 - val_binary_accuracy: 0.9796\n",
      "Epoch 36/50\n",
      "746/746 [==============================] - 1s 2ms/step - loss: 0.0726 - binary_accuracy: 0.9780 - val_loss: 0.0791 - val_binary_accuracy: 0.9747\n",
      "Epoch 37/50\n",
      "746/746 [==============================] - 1s 2ms/step - loss: 0.0716 - binary_accuracy: 0.9785 - val_loss: 0.0773 - val_binary_accuracy: 0.9808\n",
      "Epoch 38/50\n",
      "746/746 [==============================] - 1s 2ms/step - loss: 0.0701 - binary_accuracy: 0.9794 - val_loss: 0.0752 - val_binary_accuracy: 0.9823\n",
      "Epoch 39/50\n",
      "746/746 [==============================] - 1s 2ms/step - loss: 0.0701 - binary_accuracy: 0.9785 - val_loss: 0.0776 - val_binary_accuracy: 0.9778\n",
      "Epoch 40/50\n",
      "746/746 [==============================] - 1s 2ms/step - loss: 0.0698 - binary_accuracy: 0.9790 - val_loss: 0.0768 - val_binary_accuracy: 0.9823\n",
      "Epoch 41/50\n",
      "746/746 [==============================] - 1s 2ms/step - loss: 0.0687 - binary_accuracy: 0.9791 - val_loss: 0.0739 - val_binary_accuracy: 0.9823\n",
      "Epoch 42/50\n",
      "746/746 [==============================] - 1s 2ms/step - loss: 0.0670 - binary_accuracy: 0.9810 - val_loss: 0.0747 - val_binary_accuracy: 0.9747\n",
      "Epoch 43/50\n",
      "746/746 [==============================] - 1s 2ms/step - loss: 0.0658 - binary_accuracy: 0.9823 - val_loss: 0.0696 - val_binary_accuracy: 0.9849\n",
      "Epoch 44/50\n",
      "746/746 [==============================] - 1s 2ms/step - loss: 0.0644 - binary_accuracy: 0.9824 - val_loss: 0.0701 - val_binary_accuracy: 0.9838\n",
      "Epoch 45/50\n",
      "746/746 [==============================] - 1s 2ms/step - loss: 0.0630 - binary_accuracy: 0.9833 - val_loss: 0.0678 - val_binary_accuracy: 0.9834\n",
      "Epoch 46/50\n",
      "746/746 [==============================] - 1s 2ms/step - loss: 0.0612 - binary_accuracy: 0.9842 - val_loss: 0.0660 - val_binary_accuracy: 0.9849\n",
      "Epoch 47/50\n",
      "746/746 [==============================] - 1s 2ms/step - loss: 0.0633 - binary_accuracy: 0.9818 - val_loss: 0.0642 - val_binary_accuracy: 0.9815\n",
      "Epoch 48/50\n",
      "746/746 [==============================] - 1s 2ms/step - loss: 0.0583 - binary_accuracy: 0.9849 - val_loss: 0.0633 - val_binary_accuracy: 0.9853\n",
      "Epoch 49/50\n",
      "746/746 [==============================] - 1s 2ms/step - loss: 0.0570 - binary_accuracy: 0.9858 - val_loss: 0.0621 - val_binary_accuracy: 0.9849\n",
      "Epoch 50/50\n",
      "746/746 [==============================] - 1s 2ms/step - loss: 0.0555 - binary_accuracy: 0.9856 - val_loss: 0.0608 - val_binary_accuracy: 0.9864\n"
     ]
    }
   ],
   "source": [
    "history = model.fit(X_train, y_train, validation_data=(X_validation, y_validation), epochs=50, batch_size=32)"
   ]
  },
  {
   "cell_type": "code",
   "execution_count": 87,
   "id": "1e7f24bc",
   "metadata": {},
   "outputs": [
    {
     "name": "stdout",
     "output_type": "stream",
     "text": [
      "83/83 [==============================] - 0s 674us/step\n"
     ]
    }
   ],
   "source": [
    "prediction = model.predict(X_test)"
   ]
  },
  {
   "cell_type": "code",
   "execution_count": 91,
   "id": "ae75ee1f",
   "metadata": {},
   "outputs": [
    {
     "name": "stdout",
     "output_type": "stream",
     "text": [
      "[1.]\n"
     ]
    },
    {
     "data": {
      "image/png": "[encoded data removed]",
      "text/plain": [
       "<Figure size 640x480 with 1 Axes>"
      ]
     },
     "metadata": {},
     "output_type": "display_data"
    }
   ],
   "source": [
    "plt.plot(X_test[62])\n",
    "plt.scatter(np.argmax(X_test[62]), max(X_test[62]), c='r')\n",
    "print(prediction[62])"
   ]
  },
  {
   "cell_type": "code",
   "execution_count": 89,
   "id": "2e9096c4",
   "metadata": {},
   "outputs": [
    {
     "name": "stderr",
     "output_type": "stream",
     "text": [
      "WARNING:absl:Found untraced functions such as _jit_compiled_convolution_op, _jit_compiled_convolution_op, _jit_compiled_convolution_op, _jit_compiled_convolution_op, _jit_compiled_convolution_op while saving (showing 5 of 5). These functions will not be directly callable after loading.\n"
     ]
    },
    {
     "name": "stdout",
     "output_type": "stream",
     "text": [
      "INFO:tensorflow:Assets written to: model\\assets\n"
     ]
    },
    {
     "name": "stderr",
     "output_type": "stream",
     "text": [
      "INFO:tensorflow:Assets written to: model\\assets\n"
     ]
    }
   ],
   "source": [
    "model.save(\"model\")"
   ]
  },
  {
   "cell_type": "code",
   "execution_count": null,
   "id": "34b65c8c",
   "metadata": {},
   "outputs": [],
   "source": []
  }
 ],
 "metadata": {
  "kernelspec": {
   "display_name": "Python 3 (ipykernel)",
   "language": "python",
   "name": "python3"
  },
  "language_info": {
   "codemirror_mode": {
    "name": "ipython",
    "version": 3
   },
   "file_extension": ".py",
   "mimetype": "text/x-python",
   "name": "python",
   "nbconvert_exporter": "python",
   "pygments_lexer": "ipython3",
   "version": "3.9.13"
  }
 },
 "nbformat": 4,
 "nbformat_minor": 5
}
