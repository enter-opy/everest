{
 "cells": [
  {
   "cell_type": "code",
   "execution_count": 47,
   "id": "db3d8296",
   "metadata": {},
   "outputs": [],
   "source": [
    "import json\n",
    "import numpy as np\n",
    "from sklearn.model_selection import train_test_split\n",
    "import tensorflow.keras as keras\n",
    "from tensorflow.keras.models import Sequential\n",
    "from tensorflow.keras.layers import Conv1D, LSTM, Dense, Flatten, Reshape\n",
    "import matplotlib.pyplot as plt"
   ]
  },
  {
   "cell_type": "code",
   "execution_count": 48,
   "id": "418566dc",
   "metadata": {},
   "outputs": [],
   "source": [
    "inputs = []\n",
    "targets = []"
   ]
  },
  {
   "cell_type": "code",
   "execution_count": 49,
   "id": "c7fd0d10",
   "metadata": {},
   "outputs": [],
   "source": [
    "for i in range(52):\n",
    "    with open('data.json', 'r') as fp:\n",
    "        data = json.load(fp)\n",
    "        inputs = inputs + data['roi']\n",
    "        targets = targets + data['peak']"
   ]
  },
  {
   "cell_type": "code",
   "execution_count": 50,
   "id": "e2009b66",
   "metadata": {},
   "outputs": [],
   "source": [
    "inputs = np.array(inputs)\n",
    "targets = np.array(targets)"
   ]
  },
  {
   "cell_type": "code",
   "execution_count": 51,
   "id": "95eb2555",
   "metadata": {},
   "outputs": [],
   "source": [
    "X_train, X_test, y_train, y_test = train_test_split(inputs, targets, test_size=0.1)\n",
    "X_train, X_validation, y_train, y_validation = train_test_split(inputs, targets, test_size=0.1)\n",
    "X_train = X_train[..., np.newaxis]\n",
    "X_test = X_test[..., np.newaxis]\n",
    "X_validation = X_validation[..., np.newaxis]"
   ]
  },
  {
   "cell_type": "code",
   "execution_count": 52,
   "id": "f828b4a6",
   "metadata": {},
   "outputs": [
    {
     "data": {
      "text/plain": [
       "(20, 1)"
      ]
     },
     "execution_count": 52,
     "metadata": {},
     "output_type": "execute_result"
    }
   ],
   "source": [
    "X_train.shape\n",
    "input_shape=X_train[0].shape\n",
    "input_shape"
   ]
  },
  {
   "cell_type": "code",
   "execution_count": 53,
   "id": "277b9847",
   "metadata": {},
   "outputs": [
    {
     "data": {
      "text/plain": [
       "[<matplotlib.lines.Line2D at 0x206ee028b80>]"
      ]
     },
     "execution_count": 53,
     "metadata": {},
     "output_type": "execute_result"
    },
    {
     "data": {
      "image/png": "[encoded data removed]",
      "text/plain": [
       "<Figure size 640x480 with 1 Axes>"
      ]
     },
     "metadata": {},
     "output_type": "display_data"
    }
   ],
   "source": [
    "plt.plot(X_train[50])"
   ]
  },
  {
   "cell_type": "code",
   "execution_count": 64,
   "id": "6e3322b7",
   "metadata": {
    "scrolled": true
   },
   "outputs": [],
   "source": [
    "model = Sequential()\n",
    "\n",
    "model.add(Conv1D(filters=20, kernel_size=3, activation='relu', input_shape=input_shape))\n",
    "\n",
    "model.add(Conv1D(filters=16, kernel_size=3, activation='relu'))\n",
    "\n",
    "model.add(Conv1D(filters=8, kernel_size=3, activation='relu'))\n",
    "\n",
    "model.add(Flatten())\n",
    "\n",
    "model.add(Dense(16, activation='relu'))\n",
    "\n",
    "model.add(Dense(8, activation='relu'))\n",
    "\n",
    "model.add(Dense(4, activation='relu'))\n",
    "\n",
    "model.add(Dense(1, activation='sigmoid'))"
   ]
  },
  {
   "cell_type": "code",
   "execution_count": 65,
   "id": "7d64d11c",
   "metadata": {},
   "outputs": [],
   "source": [
    "model.compile(optimizer=keras.optimizers.Adam(learning_rate=0.0001),\n",
    "              loss=keras.losses.BinaryCrossentropy(),\n",
    "              metrics=[keras.metrics.BinaryAccuracy()])"
   ]
  },
  {
   "cell_type": "code",
   "execution_count": 66,
   "id": "bfcce442",
   "metadata": {},
   "outputs": [
    {
     "name": "stdout",
     "output_type": "stream",
     "text": [
      "Model: \"sequential_7\"\n",
      "_________________________________________________________________\n",
      " Layer (type)                Output Shape              Param #   \n",
      "=================================================================\n",
      " conv1d_22 (Conv1D)          (None, 18, 20)            80        \n",
      "                                                                 \n",
      " conv1d_23 (Conv1D)          (None, 16, 16)            976       \n",
      "                                                                 \n",
      " conv1d_24 (Conv1D)          (None, 14, 8)             392       \n",
      "                                                                 \n",
      " flatten_7 (Flatten)         (None, 112)               0         \n",
      "                                                                 \n",
      " dense_21 (Dense)            (None, 16)                1808      \n",
      "                                                                 \n",
      " dense_22 (Dense)            (None, 8)                 136       \n",
      "                                                                 \n",
      " dense_23 (Dense)            (None, 4)                 36        \n",
      "                                                                 \n",
      " dense_24 (Dense)            (None, 1)                 5         \n",
      "                                                                 \n",
      "=================================================================\n",
      "Total params: 3,433\n",
      "Trainable params: 3,433\n",
      "Non-trainable params: 0\n",
      "_________________________________________________________________\n"
     ]
    }
   ],
   "source": [
    "model.summary()"
   ]
  },
  {
   "cell_type": "code",
   "execution_count": 67,
   "id": "d6a32c84",
   "metadata": {},
   "outputs": [
    {
     "name": "stdout",
     "output_type": "stream",
     "text": [
      "Epoch 1/50\n",
      "746/746 [==============================] - 2s 2ms/step - loss: 0.4448 - binary_accuracy: 0.7609 - val_loss: 0.2431 - val_binary_accuracy: 0.9046\n",
      "Epoch 2/50\n",
      "746/746 [==============================] - 1s 2ms/step - loss: 0.2053 - binary_accuracy: 0.9248 - val_loss: 0.1677 - val_binary_accuracy: 0.9333\n",
      "Epoch 3/50\n",
      "746/746 [==============================] - 1s 1ms/step - loss: 0.1683 - binary_accuracy: 0.9316 - val_loss: 0.1445 - val_binary_accuracy: 0.9348\n",
      "Epoch 4/50\n",
      "746/746 [==============================] - 1s 1ms/step - loss: 0.1499 - binary_accuracy: 0.9349 - val_loss: 0.1288 - val_binary_accuracy: 0.9389\n",
      "Epoch 5/50\n",
      "746/746 [==============================] - 1s 1ms/step - loss: 0.1363 - binary_accuracy: 0.9416 - val_loss: 0.1214 - val_binary_accuracy: 0.9476\n",
      "Epoch 6/50\n",
      "746/746 [==============================] - 1s 1ms/step - loss: 0.1264 - binary_accuracy: 0.9467 - val_loss: 0.1158 - val_binary_accuracy: 0.9517\n",
      "Epoch 7/50\n",
      "746/746 [==============================] - 1s 1ms/step - loss: 0.1186 - binary_accuracy: 0.9503 - val_loss: 0.1070 - val_binary_accuracy: 0.9544\n",
      "Epoch 8/50\n",
      "746/746 [==============================] - 1s 1ms/step - loss: 0.1131 - binary_accuracy: 0.9537 - val_loss: 0.1025 - val_binary_accuracy: 0.9578\n",
      "Epoch 9/50\n",
      "746/746 [==============================] - 1s 2ms/step - loss: 0.1072 - binary_accuracy: 0.9558 - val_loss: 0.0963 - val_binary_accuracy: 0.9585\n",
      "Epoch 10/50\n",
      "746/746 [==============================] - 1s 1ms/step - loss: 0.1028 - binary_accuracy: 0.9580 - val_loss: 0.0952 - val_binary_accuracy: 0.9570\n",
      "Epoch 11/50\n",
      "746/746 [==============================] - 1s 1ms/step - loss: 0.0981 - binary_accuracy: 0.9602 - val_loss: 0.0900 - val_binary_accuracy: 0.9615\n",
      "Epoch 12/50\n",
      "746/746 [==============================] - 1s 1ms/step - loss: 0.0938 - binary_accuracy: 0.9621 - val_loss: 0.0901 - val_binary_accuracy: 0.9615\n",
      "Epoch 13/50\n",
      "746/746 [==============================] - 1s 1ms/step - loss: 0.0903 - binary_accuracy: 0.9641 - val_loss: 0.0820 - val_binary_accuracy: 0.9664\n",
      "Epoch 14/50\n",
      "746/746 [==============================] - 1s 1ms/step - loss: 0.0869 - binary_accuracy: 0.9655 - val_loss: 0.0802 - val_binary_accuracy: 0.9642\n",
      "Epoch 15/50\n",
      "746/746 [==============================] - 1s 1ms/step - loss: 0.0844 - binary_accuracy: 0.9665 - val_loss: 0.0761 - val_binary_accuracy: 0.9672\n",
      "Epoch 16/50\n",
      "746/746 [==============================] - 1s 1ms/step - loss: 0.0806 - binary_accuracy: 0.9669 - val_loss: 0.0741 - val_binary_accuracy: 0.9744\n",
      "Epoch 17/50\n",
      "746/746 [==============================] - 1s 1ms/step - loss: 0.0785 - binary_accuracy: 0.9680 - val_loss: 0.0753 - val_binary_accuracy: 0.9695\n",
      "Epoch 18/50\n",
      "746/746 [==============================] - 1s 1ms/step - loss: 0.0761 - binary_accuracy: 0.9688 - val_loss: 0.0725 - val_binary_accuracy: 0.9717\n",
      "Epoch 19/50\n",
      "746/746 [==============================] - 1s 1ms/step - loss: 0.0727 - binary_accuracy: 0.9697 - val_loss: 0.0669 - val_binary_accuracy: 0.9759\n",
      "Epoch 20/50\n",
      "746/746 [==============================] - 1s 1ms/step - loss: 0.0713 - binary_accuracy: 0.9711 - val_loss: 0.0650 - val_binary_accuracy: 0.9691\n",
      "Epoch 21/50\n",
      "746/746 [==============================] - 1s 1ms/step - loss: 0.0688 - binary_accuracy: 0.9718 - val_loss: 0.0633 - val_binary_accuracy: 0.9736\n",
      "Epoch 22/50\n",
      "746/746 [==============================] - 1s 1ms/step - loss: 0.0682 - binary_accuracy: 0.9727 - val_loss: 0.0612 - val_binary_accuracy: 0.9770\n",
      "Epoch 23/50\n",
      "746/746 [==============================] - 1s 1ms/step - loss: 0.0654 - binary_accuracy: 0.9729 - val_loss: 0.0630 - val_binary_accuracy: 0.9747\n",
      "Epoch 24/50\n",
      "746/746 [==============================] - 1s 1ms/step - loss: 0.0637 - binary_accuracy: 0.9741 - val_loss: 0.0681 - val_binary_accuracy: 0.9721\n",
      "Epoch 25/50\n",
      "746/746 [==============================] - 1s 1ms/step - loss: 0.0626 - binary_accuracy: 0.9744 - val_loss: 0.0562 - val_binary_accuracy: 0.9778\n",
      "Epoch 26/50\n",
      "746/746 [==============================] - 1s 1ms/step - loss: 0.0605 - binary_accuracy: 0.9752 - val_loss: 0.0553 - val_binary_accuracy: 0.9800\n",
      "Epoch 27/50\n",
      "746/746 [==============================] - 1s 1ms/step - loss: 0.0592 - binary_accuracy: 0.9758 - val_loss: 0.0538 - val_binary_accuracy: 0.9838\n",
      "Epoch 28/50\n",
      "746/746 [==============================] - 1s 1ms/step - loss: 0.0575 - binary_accuracy: 0.9780 - val_loss: 0.0558 - val_binary_accuracy: 0.9800\n",
      "Epoch 29/50\n",
      "746/746 [==============================] - 1s 1ms/step - loss: 0.0562 - binary_accuracy: 0.9784 - val_loss: 0.0507 - val_binary_accuracy: 0.9849\n",
      "Epoch 30/50\n",
      "746/746 [==============================] - 1s 1ms/step - loss: 0.0540 - binary_accuracy: 0.9796 - val_loss: 0.0493 - val_binary_accuracy: 0.9849\n",
      "Epoch 31/50\n",
      "746/746 [==============================] - 1s 1ms/step - loss: 0.0519 - binary_accuracy: 0.9814 - val_loss: 0.0484 - val_binary_accuracy: 0.9849\n",
      "Epoch 32/50\n",
      "746/746 [==============================] - 1s 1ms/step - loss: 0.0507 - binary_accuracy: 0.9821 - val_loss: 0.0466 - val_binary_accuracy: 0.9917\n",
      "Epoch 33/50\n",
      "746/746 [==============================] - 1s 1ms/step - loss: 0.0488 - binary_accuracy: 0.9833 - val_loss: 0.0453 - val_binary_accuracy: 0.9887\n",
      "Epoch 34/50\n",
      "746/746 [==============================] - 1s 1ms/step - loss: 0.0477 - binary_accuracy: 0.9853 - val_loss: 0.0422 - val_binary_accuracy: 0.9879\n",
      "Epoch 35/50\n",
      "746/746 [==============================] - 1s 1ms/step - loss: 0.0449 - binary_accuracy: 0.9870 - val_loss: 0.0411 - val_binary_accuracy: 0.9894\n",
      "Epoch 36/50\n",
      "746/746 [==============================] - 1s 1ms/step - loss: 0.0431 - binary_accuracy: 0.9873 - val_loss: 0.0427 - val_binary_accuracy: 0.9879\n",
      "Epoch 37/50\n",
      "746/746 [==============================] - 1s 2ms/step - loss: 0.0414 - binary_accuracy: 0.9891 - val_loss: 0.0375 - val_binary_accuracy: 0.9921\n",
      "Epoch 38/50\n",
      "746/746 [==============================] - 1s 2ms/step - loss: 0.0395 - binary_accuracy: 0.9905 - val_loss: 0.0392 - val_binary_accuracy: 0.9894\n",
      "Epoch 39/50\n",
      "746/746 [==============================] - 1s 2ms/step - loss: 0.0381 - binary_accuracy: 0.9908 - val_loss: 0.0348 - val_binary_accuracy: 0.9932\n",
      "Epoch 40/50\n",
      "746/746 [==============================] - 1s 2ms/step - loss: 0.0370 - binary_accuracy: 0.9907 - val_loss: 0.0347 - val_binary_accuracy: 0.9943\n",
      "Epoch 41/50\n",
      "746/746 [==============================] - 1s 2ms/step - loss: 0.0355 - binary_accuracy: 0.9912 - val_loss: 0.0305 - val_binary_accuracy: 0.9951\n",
      "Epoch 42/50\n",
      "746/746 [==============================] - 1s 2ms/step - loss: 0.0335 - binary_accuracy: 0.9926 - val_loss: 0.0335 - val_binary_accuracy: 0.9932\n",
      "Epoch 43/50\n",
      "746/746 [==============================] - 1s 2ms/step - loss: 0.0326 - binary_accuracy: 0.9928 - val_loss: 0.0283 - val_binary_accuracy: 0.9970\n",
      "Epoch 44/50\n",
      "746/746 [==============================] - 1s 2ms/step - loss: 0.0315 - binary_accuracy: 0.9927 - val_loss: 0.0286 - val_binary_accuracy: 0.9951\n",
      "Epoch 45/50\n",
      "746/746 [==============================] - 1s 2ms/step - loss: 0.0298 - binary_accuracy: 0.9938 - val_loss: 0.0265 - val_binary_accuracy: 0.9955\n",
      "Epoch 46/50\n",
      "746/746 [==============================] - 1s 2ms/step - loss: 0.0281 - binary_accuracy: 0.9945 - val_loss: 0.0242 - val_binary_accuracy: 0.9951\n",
      "Epoch 47/50\n",
      "746/746 [==============================] - 1s 2ms/step - loss: 0.0267 - binary_accuracy: 0.9949 - val_loss: 0.0230 - val_binary_accuracy: 0.9943\n",
      "Epoch 48/50\n",
      "746/746 [==============================] - 1s 2ms/step - loss: 0.0246 - binary_accuracy: 0.9960 - val_loss: 0.0225 - val_binary_accuracy: 0.9955\n",
      "Epoch 49/50\n",
      "746/746 [==============================] - 1s 2ms/step - loss: 0.0239 - binary_accuracy: 0.9960 - val_loss: 0.0210 - val_binary_accuracy: 0.9981\n",
      "Epoch 50/50\n",
      "746/746 [==============================] - 1s 2ms/step - loss: 0.0220 - binary_accuracy: 0.9966 - val_loss: 0.0292 - val_binary_accuracy: 0.9906\n"
     ]
    }
   ],
   "source": [
    "history = model.fit(X_train, y_train, validation_data=(X_validation, y_validation), epochs=50, batch_size=32)"
   ]
  },
  {
   "cell_type": "code",
   "execution_count": 68,
   "id": "1e7f24bc",
   "metadata": {},
   "outputs": [
    {
     "name": "stdout",
     "output_type": "stream",
     "text": [
      "83/83 [==============================] - 0s 795us/step\n"
     ]
    }
   ],
   "source": [
    "prediction = model.predict(X_test)"
   ]
  },
  {
   "cell_type": "code",
   "execution_count": 69,
   "id": "ae75ee1f",
   "metadata": {},
   "outputs": [
    {
     "name": "stdout",
     "output_type": "stream",
     "text": [
      "[0.9999807]\n"
     ]
    },
    {
     "data": {
      "image/png": "[encoded data removed]",
      "text/plain": [
       "<Figure size 640x480 with 1 Axes>"
      ]
     },
     "metadata": {},
     "output_type": "display_data"
    }
   ],
   "source": [
    "plt.plot(X_test[62])\n",
    "plt.scatter(np.argmax(X_test[62]), max(X_test[62]), c='r')\n",
    "print(prediction[62])"
   ]
  },
  {
   "cell_type": "code",
   "execution_count": 70,
   "id": "2e9096c4",
   "metadata": {},
   "outputs": [
    {
     "name": "stderr",
     "output_type": "stream",
     "text": [
      "WARNING:absl:Found untraced functions such as _jit_compiled_convolution_op, _jit_compiled_convolution_op, _jit_compiled_convolution_op while saving (showing 3 of 3). These functions will not be directly callable after loading.\n"
     ]
    },
    {
     "name": "stdout",
     "output_type": "stream",
     "text": [
      "INFO:tensorflow:Assets written to: model\\assets\n"
     ]
    },
    {
     "name": "stderr",
     "output_type": "stream",
     "text": [
      "INFO:tensorflow:Assets written to: model\\assets\n"
     ]
    }
   ],
   "source": [
    "model.save(\"model\")"
   ]
  },
  {
   "cell_type": "code",
   "execution_count": null,
   "id": "34b65c8c",
   "metadata": {},
   "outputs": [],
   "source": []
  }
 ],
 "metadata": {
  "kernelspec": {
   "display_name": "Python 3 (ipykernel)",
   "language": "python",
   "name": "python3"
  },
  "language_info": {
   "codemirror_mode": {
    "name": "ipython",
    "version": 3
   },
   "file_extension": ".py",
   "mimetype": "text/x-python",
   "name": "python",
   "nbconvert_exporter": "python",
   "pygments_lexer": "ipython3",
   "version": "3.9.13"
  }
 },
 "nbformat": 4,
 "nbformat_minor": 5
}
