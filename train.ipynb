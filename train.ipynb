{
 "cells": [
  {
   "cell_type": "code",
   "execution_count": 151,
   "id": "db3d8296",
   "metadata": {},
   "outputs": [],
   "source": [
    "import json\n",
    "import numpy as np\n",
    "from sklearn.model_selection import train_test_split\n",
    "import tensorflow as tf\n",
    "import tensorflow.keras as keras\n",
    "from tensorflow.keras.models import Sequential\n",
    "from tensorflow.keras.layers import Conv1D, LSTM, Dense, Flatten, Reshape\n",
    "import matplotlib.pyplot as plt"
   ]
  },
  {
   "cell_type": "code",
   "execution_count": 152,
   "id": "418566dc",
   "metadata": {},
   "outputs": [],
   "source": [
    "inputs = []\n",
    "targets = []"
   ]
  },
  {
   "cell_type": "code",
   "execution_count": 153,
   "id": "c7fd0d10",
   "metadata": {},
   "outputs": [],
   "source": [
    "for i in range(50):\n",
    "    with open('dataset.json', 'r') as fp:\n",
    "        data = json.load(fp)\n",
    "        inputs = inputs + data['roi']\n",
    "        targets = targets + data['peak']"
   ]
  },
  {
   "cell_type": "code",
   "execution_count": 154,
   "id": "e2009b66",
   "metadata": {},
   "outputs": [],
   "source": [
    "inputs = np.array(inputs)\n",
    "targets = np.array(targets)"
   ]
  },
  {
   "cell_type": "code",
   "execution_count": 155,
   "id": "95eb2555",
   "metadata": {},
   "outputs": [],
   "source": [
    "X_train, X_test, y_train, y_test = train_test_split(inputs, targets, test_size=0.1)\n",
    "X_train, X_validation, y_train, y_validation = train_test_split(inputs, targets, test_size=0.1)\n",
    "X_train = X_train[..., np.newaxis]\n",
    "X_test = X_test[..., np.newaxis]\n",
    "X_validation = X_validation[..., np.newaxis]"
   ]
  },
  {
   "cell_type": "code",
   "execution_count": 156,
   "id": "096c66bf",
   "metadata": {},
   "outputs": [
    {
     "data": {
      "text/plain": [
       "(20, 1)"
      ]
     },
     "execution_count": 156,
     "metadata": {},
     "output_type": "execute_result"
    }
   ],
   "source": [
    "X_train.shape\n",
    "input_shape=X_train[0].shape\n",
    "input_shape"
   ]
  },
  {
   "cell_type": "code",
   "execution_count": 157,
   "id": "6e3322b7",
   "metadata": {
    "scrolled": true
   },
   "outputs": [],
   "source": [
    "model = Sequential()\n",
    "\n",
    "model.add(Input(shape=input_shape))\n",
    "model.add(Conv1D(filters=20, kernel_size=3, activation='relu', input_shape=input_shape))\n",
    "model.add(Conv1D(filters=16, kernel_size=3, activation='relu'))\n",
    "model.add(Conv1D(filters=8, kernel_size=3, activation='relu'))\n",
    "model.add(Flatten())\n",
    "model.add(Dense(16, activation='relu'))\n",
    "model.add(Dense(8, activation='relu'))\n",
    "model.add(Dense(4, activation='relu'))\n",
    "model.add(Dense(1, activation='sigmoid'))"
   ]
  },
  {
   "cell_type": "code",
   "execution_count": 158,
   "id": "7d64d11c",
   "metadata": {},
   "outputs": [],
   "source": [
    "model.compile(optimizer=keras.optimizers.Adam(learning_rate=0.001), loss=keras.losses.BinaryCrossentropy(), metrics=[keras.metrics.BinaryAccuracy()])"
   ]
  },
  {
   "cell_type": "code",
   "execution_count": 159,
   "id": "bfcce442",
   "metadata": {},
   "outputs": [
    {
     "data": {
      "text/html": [
       "<pre style=\"white-space:pre;overflow-x:auto;line-height:normal;font-family:Menlo,'DejaVu Sans Mono',consolas,'Courier New',monospace\"><span style=\"font-weight: bold\">Model: \"sequential_18\"</span>\n",
       "</pre>\n"
      ],
      "text/plain": [
       "\u001b[1mModel: \"sequential_18\"\u001b[0m\n"
      ]
     },
     "metadata": {},
     "output_type": "display_data"
    },
    {
     "data": {
      "text/html": [
       "<pre style=\"white-space:pre;overflow-x:auto;line-height:normal;font-family:Menlo,'DejaVu Sans Mono',consolas,'Courier New',monospace\">┏━━━━━━━━━━━━━━━━━━━━━━━━━━━━━━━━━━━━━━┳━━━━━━━━━━━━━━━━━━━━━━━━━━━━━┳━━━━━━━━━━━━━━━━━┓\n",
       "┃<span style=\"font-weight: bold\"> Layer (type)                         </span>┃<span style=\"font-weight: bold\"> Output Shape                </span>┃<span style=\"font-weight: bold\">         Param # </span>┃\n",
       "┡━━━━━━━━━━━━━━━━━━━━━━━━━━━━━━━━━━━━━━╇━━━━━━━━━━━━━━━━━━━━━━━━━━━━━╇━━━━━━━━━━━━━━━━━┩\n",
       "│ conv1d_37 (<span style=\"color: #0087ff; text-decoration-color: #0087ff\">Conv1D</span>)                   │ (<span style=\"color: #00d7ff; text-decoration-color: #00d7ff\">None</span>, <span style=\"color: #00af00; text-decoration-color: #00af00\">18</span>, <span style=\"color: #00af00; text-decoration-color: #00af00\">20</span>)              │              <span style=\"color: #00af00; text-decoration-color: #00af00\">80</span> │\n",
       "├──────────────────────────────────────┼─────────────────────────────┼─────────────────┤\n",
       "│ conv1d_38 (<span style=\"color: #0087ff; text-decoration-color: #0087ff\">Conv1D</span>)                   │ (<span style=\"color: #00d7ff; text-decoration-color: #00d7ff\">None</span>, <span style=\"color: #00af00; text-decoration-color: #00af00\">16</span>, <span style=\"color: #00af00; text-decoration-color: #00af00\">16</span>)              │             <span style=\"color: #00af00; text-decoration-color: #00af00\">976</span> │\n",
       "├──────────────────────────────────────┼─────────────────────────────┼─────────────────┤\n",
       "│ conv1d_39 (<span style=\"color: #0087ff; text-decoration-color: #0087ff\">Conv1D</span>)                   │ (<span style=\"color: #00d7ff; text-decoration-color: #00d7ff\">None</span>, <span style=\"color: #00af00; text-decoration-color: #00af00\">14</span>, <span style=\"color: #00af00; text-decoration-color: #00af00\">8</span>)               │             <span style=\"color: #00af00; text-decoration-color: #00af00\">392</span> │\n",
       "├──────────────────────────────────────┼─────────────────────────────┼─────────────────┤\n",
       "│ flatten_11 (<span style=\"color: #0087ff; text-decoration-color: #0087ff\">Flatten</span>)                 │ (<span style=\"color: #00d7ff; text-decoration-color: #00d7ff\">None</span>, <span style=\"color: #00af00; text-decoration-color: #00af00\">112</span>)                 │               <span style=\"color: #00af00; text-decoration-color: #00af00\">0</span> │\n",
       "├──────────────────────────────────────┼─────────────────────────────┼─────────────────┤\n",
       "│ dense_44 (<span style=\"color: #0087ff; text-decoration-color: #0087ff\">Dense</span>)                     │ (<span style=\"color: #00d7ff; text-decoration-color: #00d7ff\">None</span>, <span style=\"color: #00af00; text-decoration-color: #00af00\">16</span>)                  │           <span style=\"color: #00af00; text-decoration-color: #00af00\">1,808</span> │\n",
       "├──────────────────────────────────────┼─────────────────────────────┼─────────────────┤\n",
       "│ dense_45 (<span style=\"color: #0087ff; text-decoration-color: #0087ff\">Dense</span>)                     │ (<span style=\"color: #00d7ff; text-decoration-color: #00d7ff\">None</span>, <span style=\"color: #00af00; text-decoration-color: #00af00\">8</span>)                   │             <span style=\"color: #00af00; text-decoration-color: #00af00\">136</span> │\n",
       "├──────────────────────────────────────┼─────────────────────────────┼─────────────────┤\n",
       "│ dense_46 (<span style=\"color: #0087ff; text-decoration-color: #0087ff\">Dense</span>)                     │ (<span style=\"color: #00d7ff; text-decoration-color: #00d7ff\">None</span>, <span style=\"color: #00af00; text-decoration-color: #00af00\">4</span>)                   │              <span style=\"color: #00af00; text-decoration-color: #00af00\">36</span> │\n",
       "├──────────────────────────────────────┼─────────────────────────────┼─────────────────┤\n",
       "│ dense_47 (<span style=\"color: #0087ff; text-decoration-color: #0087ff\">Dense</span>)                     │ (<span style=\"color: #00d7ff; text-decoration-color: #00d7ff\">None</span>, <span style=\"color: #00af00; text-decoration-color: #00af00\">1</span>)                   │               <span style=\"color: #00af00; text-decoration-color: #00af00\">5</span> │\n",
       "└──────────────────────────────────────┴─────────────────────────────┴─────────────────┘\n",
       "</pre>\n"
      ],
      "text/plain": [
       "┏━━━━━━━━━━━━━━━━━━━━━━━━━━━━━━━━━━━━━━┳━━━━━━━━━━━━━━━━━━━━━━━━━━━━━┳━━━━━━━━━━━━━━━━━┓\n",
       "┃\u001b[1m \u001b[0m\u001b[1mLayer (type)                        \u001b[0m\u001b[1m \u001b[0m┃\u001b[1m \u001b[0m\u001b[1mOutput Shape               \u001b[0m\u001b[1m \u001b[0m┃\u001b[1m \u001b[0m\u001b[1m        Param #\u001b[0m\u001b[1m \u001b[0m┃\n",
       "┡━━━━━━━━━━━━━━━━━━━━━━━━━━━━━━━━━━━━━━╇━━━━━━━━━━━━━━━━━━━━━━━━━━━━━╇━━━━━━━━━━━━━━━━━┩\n",
       "│ conv1d_37 (\u001b[38;5;33mConv1D\u001b[0m)                   │ (\u001b[38;5;45mNone\u001b[0m, \u001b[38;5;34m18\u001b[0m, \u001b[38;5;34m20\u001b[0m)              │              \u001b[38;5;34m80\u001b[0m │\n",
       "├──────────────────────────────────────┼─────────────────────────────┼─────────────────┤\n",
       "│ conv1d_38 (\u001b[38;5;33mConv1D\u001b[0m)                   │ (\u001b[38;5;45mNone\u001b[0m, \u001b[38;5;34m16\u001b[0m, \u001b[38;5;34m16\u001b[0m)              │             \u001b[38;5;34m976\u001b[0m │\n",
       "├──────────────────────────────────────┼─────────────────────────────┼─────────────────┤\n",
       "│ conv1d_39 (\u001b[38;5;33mConv1D\u001b[0m)                   │ (\u001b[38;5;45mNone\u001b[0m, \u001b[38;5;34m14\u001b[0m, \u001b[38;5;34m8\u001b[0m)               │             \u001b[38;5;34m392\u001b[0m │\n",
       "├──────────────────────────────────────┼─────────────────────────────┼─────────────────┤\n",
       "│ flatten_11 (\u001b[38;5;33mFlatten\u001b[0m)                 │ (\u001b[38;5;45mNone\u001b[0m, \u001b[38;5;34m112\u001b[0m)                 │               \u001b[38;5;34m0\u001b[0m │\n",
       "├──────────────────────────────────────┼─────────────────────────────┼─────────────────┤\n",
       "│ dense_44 (\u001b[38;5;33mDense\u001b[0m)                     │ (\u001b[38;5;45mNone\u001b[0m, \u001b[38;5;34m16\u001b[0m)                  │           \u001b[38;5;34m1,808\u001b[0m │\n",
       "├──────────────────────────────────────┼─────────────────────────────┼─────────────────┤\n",
       "│ dense_45 (\u001b[38;5;33mDense\u001b[0m)                     │ (\u001b[38;5;45mNone\u001b[0m, \u001b[38;5;34m8\u001b[0m)                   │             \u001b[38;5;34m136\u001b[0m │\n",
       "├──────────────────────────────────────┼─────────────────────────────┼─────────────────┤\n",
       "│ dense_46 (\u001b[38;5;33mDense\u001b[0m)                     │ (\u001b[38;5;45mNone\u001b[0m, \u001b[38;5;34m4\u001b[0m)                   │              \u001b[38;5;34m36\u001b[0m │\n",
       "├──────────────────────────────────────┼─────────────────────────────┼─────────────────┤\n",
       "│ dense_47 (\u001b[38;5;33mDense\u001b[0m)                     │ (\u001b[38;5;45mNone\u001b[0m, \u001b[38;5;34m1\u001b[0m)                   │               \u001b[38;5;34m5\u001b[0m │\n",
       "└──────────────────────────────────────┴─────────────────────────────┴─────────────────┘\n"
      ]
     },
     "metadata": {},
     "output_type": "display_data"
    },
    {
     "data": {
      "text/html": [
       "<pre style=\"white-space:pre;overflow-x:auto;line-height:normal;font-family:Menlo,'DejaVu Sans Mono',consolas,'Courier New',monospace\"><span style=\"font-weight: bold\"> Total params: </span><span style=\"color: #00af00; text-decoration-color: #00af00\">3,433</span> (13.41 KB)\n",
       "</pre>\n"
      ],
      "text/plain": [
       "\u001b[1m Total params: \u001b[0m\u001b[38;5;34m3,433\u001b[0m (13.41 KB)\n"
      ]
     },
     "metadata": {},
     "output_type": "display_data"
    },
    {
     "data": {
      "text/html": [
       "<pre style=\"white-space:pre;overflow-x:auto;line-height:normal;font-family:Menlo,'DejaVu Sans Mono',consolas,'Courier New',monospace\"><span style=\"font-weight: bold\"> Trainable params: </span><span style=\"color: #00af00; text-decoration-color: #00af00\">3,433</span> (13.41 KB)\n",
       "</pre>\n"
      ],
      "text/plain": [
       "\u001b[1m Trainable params: \u001b[0m\u001b[38;5;34m3,433\u001b[0m (13.41 KB)\n"
      ]
     },
     "metadata": {},
     "output_type": "display_data"
    },
    {
     "data": {
      "text/html": [
       "<pre style=\"white-space:pre;overflow-x:auto;line-height:normal;font-family:Menlo,'DejaVu Sans Mono',consolas,'Courier New',monospace\"><span style=\"font-weight: bold\"> Non-trainable params: </span><span style=\"color: #00af00; text-decoration-color: #00af00\">0</span> (0.00 B)\n",
       "</pre>\n"
      ],
      "text/plain": [
       "\u001b[1m Non-trainable params: \u001b[0m\u001b[38;5;34m0\u001b[0m (0.00 B)\n"
      ]
     },
     "metadata": {},
     "output_type": "display_data"
    }
   ],
   "source": [
    "model.summary()"
   ]
  },
  {
   "cell_type": "code",
   "execution_count": 160,
   "id": "d6a32c84",
   "metadata": {},
   "outputs": [
    {
     "name": "stdout",
     "output_type": "stream",
     "text": [
      "Epoch 1/100\n",
      "\u001b[1m1435/1435\u001b[0m \u001b[32m━━━━━━━━━━━━━━━━━━━━\u001b[0m\u001b[37m\u001b[0m \u001b[1m3s\u001b[0m 1ms/step - binary_accuracy: 0.8639 - loss: 0.2972 - val_binary_accuracy: 0.9408 - val_loss: 0.1432\n",
      "Epoch 2/100\n",
      "\u001b[1m1435/1435\u001b[0m \u001b[32m━━━━━━━━━━━━━━━━━━━━\u001b[0m\u001b[37m\u001b[0m \u001b[1m2s\u001b[0m 1ms/step - binary_accuracy: 0.9439 - loss: 0.1393 - val_binary_accuracy: 0.9433 - val_loss: 0.1265\n",
      "Epoch 3/100\n",
      "\u001b[1m1435/1435\u001b[0m \u001b[32m━━━━━━━━━━━━━━━━━━━━\u001b[0m\u001b[37m\u001b[0m \u001b[1m2s\u001b[0m 1ms/step - binary_accuracy: 0.9542 - loss: 0.1141 - val_binary_accuracy: 0.9553 - val_loss: 0.1011\n",
      "Epoch 4/100\n",
      "\u001b[1m1435/1435\u001b[0m \u001b[32m━━━━━━━━━━━━━━━━━━━━\u001b[0m\u001b[37m\u001b[0m \u001b[1m2s\u001b[0m 1ms/step - binary_accuracy: 0.9615 - loss: 0.0982 - val_binary_accuracy: 0.9682 - val_loss: 0.0860\n",
      "Epoch 5/100\n",
      "\u001b[1m1435/1435\u001b[0m \u001b[32m━━━━━━━━━━━━━━━━━━━━\u001b[0m\u001b[37m\u001b[0m \u001b[1m2s\u001b[0m 1ms/step - binary_accuracy: 0.9658 - loss: 0.0834 - val_binary_accuracy: 0.9788 - val_loss: 0.0658\n",
      "Epoch 6/100\n",
      "\u001b[1m1435/1435\u001b[0m \u001b[32m━━━━━━━━━━━━━━━━━━━━\u001b[0m\u001b[37m\u001b[0m \u001b[1m2s\u001b[0m 1ms/step - binary_accuracy: 0.9712 - loss: 0.0744 - val_binary_accuracy: 0.9751 - val_loss: 0.0711\n",
      "Epoch 7/100\n",
      "\u001b[1m1435/1435\u001b[0m \u001b[32m━━━━━━━━━━━━━━━━━━━━\u001b[0m\u001b[37m\u001b[0m \u001b[1m2s\u001b[0m 1ms/step - binary_accuracy: 0.9776 - loss: 0.0597 - val_binary_accuracy: 0.9827 - val_loss: 0.0509\n",
      "Epoch 8/100\n",
      "\u001b[1m1435/1435\u001b[0m \u001b[32m━━━━━━━━━━━━━━━━━━━━\u001b[0m\u001b[37m\u001b[0m \u001b[1m2s\u001b[0m 1ms/step - binary_accuracy: 0.9802 - loss: 0.0552 - val_binary_accuracy: 0.9761 - val_loss: 0.0637\n",
      "Epoch 9/100\n",
      "\u001b[1m1435/1435\u001b[0m \u001b[32m━━━━━━━━━━━━━━━━━━━━\u001b[0m\u001b[37m\u001b[0m \u001b[1m2s\u001b[0m 1ms/step - binary_accuracy: 0.9832 - loss: 0.0441 - val_binary_accuracy: 0.9865 - val_loss: 0.0380\n",
      "Epoch 10/100\n",
      "\u001b[1m1435/1435\u001b[0m \u001b[32m━━━━━━━━━━━━━━━━━━━━\u001b[0m\u001b[37m\u001b[0m \u001b[1m2s\u001b[0m 1ms/step - binary_accuracy: 0.9847 - loss: 0.0415 - val_binary_accuracy: 0.9804 - val_loss: 0.0488\n",
      "Epoch 11/100\n",
      "\u001b[1m1435/1435\u001b[0m \u001b[32m━━━━━━━━━━━━━━━━━━━━\u001b[0m\u001b[37m\u001b[0m \u001b[1m2s\u001b[0m 1ms/step - binary_accuracy: 0.9872 - loss: 0.0347 - val_binary_accuracy: 0.9863 - val_loss: 0.0320\n",
      "Epoch 12/100\n",
      "\u001b[1m1435/1435\u001b[0m \u001b[32m━━━━━━━━━━━━━━━━━━━━\u001b[0m\u001b[37m\u001b[0m \u001b[1m2s\u001b[0m 1ms/step - binary_accuracy: 0.9894 - loss: 0.0308 - val_binary_accuracy: 0.9925 - val_loss: 0.0178\n",
      "Epoch 13/100\n",
      "\u001b[1m1435/1435\u001b[0m \u001b[32m━━━━━━━━━━━━━━━━━━━━\u001b[0m\u001b[37m\u001b[0m \u001b[1m2s\u001b[0m 1ms/step - binary_accuracy: 0.9910 - loss: 0.0266 - val_binary_accuracy: 0.9949 - val_loss: 0.0154\n",
      "Epoch 14/100\n",
      "\u001b[1m1435/1435\u001b[0m \u001b[32m━━━━━━━━━━━━━━━━━━━━\u001b[0m\u001b[37m\u001b[0m \u001b[1m2s\u001b[0m 1ms/step - binary_accuracy: 0.9928 - loss: 0.0221 - val_binary_accuracy: 0.9978 - val_loss: 0.0086\n",
      "Epoch 15/100\n",
      "\u001b[1m1435/1435\u001b[0m \u001b[32m━━━━━━━━━━━━━━━━━━━━\u001b[0m\u001b[37m\u001b[0m \u001b[1m2s\u001b[0m 1ms/step - binary_accuracy: 0.9958 - loss: 0.0135 - val_binary_accuracy: 0.9965 - val_loss: 0.0186\n",
      "Epoch 16/100\n",
      "\u001b[1m1435/1435\u001b[0m \u001b[32m━━━━━━━━━━━━━━━━━━━━\u001b[0m\u001b[37m\u001b[0m \u001b[1m2s\u001b[0m 1ms/step - binary_accuracy: 0.9960 - loss: 0.0121 - val_binary_accuracy: 0.9982 - val_loss: 0.0044\n",
      "Epoch 17/100\n",
      "\u001b[1m1435/1435\u001b[0m \u001b[32m━━━━━━━━━━━━━━━━━━━━\u001b[0m\u001b[37m\u001b[0m \u001b[1m2s\u001b[0m 1ms/step - binary_accuracy: 0.9977 - loss: 0.0063 - val_binary_accuracy: 0.9988 - val_loss: 0.0082\n",
      "Epoch 18/100\n",
      "\u001b[1m1435/1435\u001b[0m \u001b[32m━━━━━━━━━━━━━━━━━━━━\u001b[0m\u001b[37m\u001b[0m \u001b[1m2s\u001b[0m 1ms/step - binary_accuracy: 0.9973 - loss: 0.0089 - val_binary_accuracy: 0.9988 - val_loss: 0.0022\n",
      "Epoch 19/100\n",
      "\u001b[1m1435/1435\u001b[0m \u001b[32m━━━━━━━━━━━━━━━━━━━━\u001b[0m\u001b[37m\u001b[0m \u001b[1m2s\u001b[0m 1ms/step - binary_accuracy: 0.9961 - loss: 0.0136 - val_binary_accuracy: 0.9988 - val_loss: 0.0021\n",
      "Epoch 20/100\n",
      "\u001b[1m1435/1435\u001b[0m \u001b[32m━━━━━━━━━━━━━━━━━━━━\u001b[0m\u001b[37m\u001b[0m \u001b[1m2s\u001b[0m 1ms/step - binary_accuracy: 0.9947 - loss: 0.0149 - val_binary_accuracy: 0.9988 - val_loss: 0.0022\n",
      "Epoch 21/100\n",
      "\u001b[1m1435/1435\u001b[0m \u001b[32m━━━━━━━━━━━━━━━━━━━━\u001b[0m\u001b[37m\u001b[0m \u001b[1m2s\u001b[0m 1ms/step - binary_accuracy: 0.9964 - loss: 0.0112 - val_binary_accuracy: 0.9988 - val_loss: 0.0018\n",
      "Epoch 22/100\n",
      "\u001b[1m1435/1435\u001b[0m \u001b[32m━━━━━━━━━━━━━━━━━━━━\u001b[0m\u001b[37m\u001b[0m \u001b[1m2s\u001b[0m 1ms/step - binary_accuracy: 0.9962 - loss: 0.0140 - val_binary_accuracy: 0.9988 - val_loss: 0.0043\n",
      "Epoch 23/100\n",
      "\u001b[1m1435/1435\u001b[0m \u001b[32m━━━━━━━━━━━━━━━━━━━━\u001b[0m\u001b[37m\u001b[0m \u001b[1m2s\u001b[0m 1ms/step - binary_accuracy: 0.9976 - loss: 0.0080 - val_binary_accuracy: 0.9988 - val_loss: 0.0026\n",
      "Epoch 24/100\n",
      "\u001b[1m1435/1435\u001b[0m \u001b[32m━━━━━━━━━━━━━━━━━━━━\u001b[0m\u001b[37m\u001b[0m \u001b[1m2s\u001b[0m 1ms/step - binary_accuracy: 0.9991 - loss: 0.0026 - val_binary_accuracy: 0.9918 - val_loss: 0.0221\n",
      "Epoch 25/100\n",
      "\u001b[1m1435/1435\u001b[0m \u001b[32m━━━━━━━━━━━━━━━━━━━━\u001b[0m\u001b[37m\u001b[0m \u001b[1m2s\u001b[0m 1ms/step - binary_accuracy: 0.9967 - loss: 0.0117 - val_binary_accuracy: 0.9988 - val_loss: 0.0023\n",
      "Epoch 26/100\n",
      "\u001b[1m1435/1435\u001b[0m \u001b[32m━━━━━━━━━━━━━━━━━━━━\u001b[0m\u001b[37m\u001b[0m \u001b[1m2s\u001b[0m 1ms/step - binary_accuracy: 0.9985 - loss: 0.0038 - val_binary_accuracy: 0.9988 - val_loss: 0.0026\n",
      "Epoch 27/100\n",
      "\u001b[1m1435/1435\u001b[0m \u001b[32m━━━━━━━━━━━━━━━━━━━━\u001b[0m\u001b[37m\u001b[0m \u001b[1m2s\u001b[0m 1ms/step - binary_accuracy: 0.9983 - loss: 0.0050 - val_binary_accuracy: 0.9988 - val_loss: 0.0022\n",
      "Epoch 28/100\n",
      "\u001b[1m1435/1435\u001b[0m \u001b[32m━━━━━━━━━━━━━━━━━━━━\u001b[0m\u001b[37m\u001b[0m \u001b[1m2s\u001b[0m 1ms/step - binary_accuracy: 0.9977 - loss: 0.0079 - val_binary_accuracy: 0.9971 - val_loss: 0.0068\n",
      "Epoch 29/100\n",
      "\u001b[1m1435/1435\u001b[0m \u001b[32m━━━━━━━━━━━━━━━━━━━━\u001b[0m\u001b[37m\u001b[0m \u001b[1m2s\u001b[0m 1ms/step - binary_accuracy: 0.9973 - loss: 0.0071 - val_binary_accuracy: 0.9988 - val_loss: 0.0052\n",
      "Epoch 30/100\n",
      "\u001b[1m1435/1435\u001b[0m \u001b[32m━━━━━━━━━━━━━━━━━━━━\u001b[0m\u001b[37m\u001b[0m \u001b[1m2s\u001b[0m 1ms/step - binary_accuracy: 0.9979 - loss: 0.0049 - val_binary_accuracy: 0.9988 - val_loss: 0.0026\n",
      "Epoch 31/100\n",
      "\u001b[1m1435/1435\u001b[0m \u001b[32m━━━━━━━━━━━━━━━━━━━━\u001b[0m\u001b[37m\u001b[0m \u001b[1m2s\u001b[0m 1ms/step - binary_accuracy: 0.9991 - loss: 0.0023 - val_binary_accuracy: 0.9988 - val_loss: 0.0015\n",
      "Epoch 32/100\n",
      "\u001b[1m1435/1435\u001b[0m \u001b[32m━━━━━━━━━━━━━━━━━━━━\u001b[0m\u001b[37m\u001b[0m \u001b[1m2s\u001b[0m 1ms/step - binary_accuracy: 0.9964 - loss: 0.0113 - val_binary_accuracy: 0.9988 - val_loss: 0.0069\n",
      "Epoch 33/100\n",
      "\u001b[1m1435/1435\u001b[0m \u001b[32m━━━━━━━━━━━━━━━━━━━━\u001b[0m\u001b[37m\u001b[0m \u001b[1m2s\u001b[0m 1ms/step - binary_accuracy: 0.9991 - loss: 0.0022 - val_binary_accuracy: 0.9988 - val_loss: 0.0014\n",
      "Epoch 34/100\n",
      "\u001b[1m1435/1435\u001b[0m \u001b[32m━━━━━━━━━━━━━━━━━━━━\u001b[0m\u001b[37m\u001b[0m \u001b[1m2s\u001b[0m 1ms/step - binary_accuracy: 0.9971 - loss: 0.0101 - val_binary_accuracy: 0.9663 - val_loss: 0.0740\n",
      "Epoch 35/100\n",
      "\u001b[1m1435/1435\u001b[0m \u001b[32m━━━━━━━━━━━━━━━━━━━━\u001b[0m\u001b[37m\u001b[0m \u001b[1m2s\u001b[0m 1ms/step - binary_accuracy: 0.9957 - loss: 0.0110 - val_binary_accuracy: 0.9988 - val_loss: 0.0016\n",
      "Epoch 36/100\n",
      "\u001b[1m1435/1435\u001b[0m \u001b[32m━━━━━━━━━━━━━━━━━━━━\u001b[0m\u001b[37m\u001b[0m \u001b[1m2s\u001b[0m 1ms/step - binary_accuracy: 0.9980 - loss: 0.0051 - val_binary_accuracy: 0.9988 - val_loss: 0.0018\n",
      "Epoch 37/100\n",
      "\u001b[1m1435/1435\u001b[0m \u001b[32m━━━━━━━━━━━━━━━━━━━━\u001b[0m\u001b[37m\u001b[0m \u001b[1m2s\u001b[0m 1ms/step - binary_accuracy: 0.9984 - loss: 0.0047 - val_binary_accuracy: 0.9988 - val_loss: 0.0019\n",
      "Epoch 38/100\n",
      "\u001b[1m1435/1435\u001b[0m \u001b[32m━━━━━━━━━━━━━━━━━━━━\u001b[0m\u001b[37m\u001b[0m \u001b[1m2s\u001b[0m 1ms/step - binary_accuracy: 0.9979 - loss: 0.0056 - val_binary_accuracy: 0.9988 - val_loss: 0.0019\n",
      "Epoch 39/100\n",
      "\u001b[1m1435/1435\u001b[0m \u001b[32m━━━━━━━━━━━━━━━━━━━━\u001b[0m\u001b[37m\u001b[0m \u001b[1m2s\u001b[0m 1ms/step - binary_accuracy: 0.9989 - loss: 0.0021 - val_binary_accuracy: 0.9988 - val_loss: 0.0015\n",
      "Epoch 40/100\n",
      "\u001b[1m1435/1435\u001b[0m \u001b[32m━━━━━━━━━━━━━━━━━━━━\u001b[0m\u001b[37m\u001b[0m \u001b[1m2s\u001b[0m 1ms/step - binary_accuracy: 0.9988 - loss: 0.0023 - val_binary_accuracy: 0.9943 - val_loss: 0.0188\n",
      "Epoch 41/100\n",
      "\u001b[1m1435/1435\u001b[0m \u001b[32m━━━━━━━━━━━━━━━━━━━━\u001b[0m\u001b[37m\u001b[0m \u001b[1m2s\u001b[0m 1ms/step - binary_accuracy: 0.9982 - loss: 0.0062 - val_binary_accuracy: 0.9988 - val_loss: 0.0016\n",
      "Epoch 42/100\n",
      "\u001b[1m1435/1435\u001b[0m \u001b[32m━━━━━━━━━━━━━━━━━━━━\u001b[0m\u001b[37m\u001b[0m \u001b[1m2s\u001b[0m 1ms/step - binary_accuracy: 0.9983 - loss: 0.0045 - val_binary_accuracy: 0.9988 - val_loss: 0.0021\n",
      "Epoch 43/100\n",
      "\u001b[1m1435/1435\u001b[0m \u001b[32m━━━━━━━━━━━━━━━━━━━━\u001b[0m\u001b[37m\u001b[0m \u001b[1m2s\u001b[0m 1ms/step - binary_accuracy: 0.9990 - loss: 0.0019 - val_binary_accuracy: 0.9863 - val_loss: 0.0712\n",
      "Epoch 44/100\n",
      "\u001b[1m1435/1435\u001b[0m \u001b[32m━━━━━━━━━━━━━━━━━━━━\u001b[0m\u001b[37m\u001b[0m \u001b[1m2s\u001b[0m 1ms/step - binary_accuracy: 0.9875 - loss: 0.0417 - val_binary_accuracy: 0.9988 - val_loss: 0.0016\n",
      "Epoch 45/100\n",
      "\u001b[1m1435/1435\u001b[0m \u001b[32m━━━━━━━━━━━━━━━━━━━━\u001b[0m\u001b[37m\u001b[0m \u001b[1m2s\u001b[0m 1ms/step - binary_accuracy: 0.9975 - loss: 0.0063 - val_binary_accuracy: 0.9988 - val_loss: 0.0015\n",
      "Epoch 46/100\n"
     ]
    },
    {
     "name": "stdout",
     "output_type": "stream",
     "text": [
      "\u001b[1m1435/1435\u001b[0m \u001b[32m━━━━━━━━━━━━━━━━━━━━\u001b[0m\u001b[37m\u001b[0m \u001b[1m2s\u001b[0m 1ms/step - binary_accuracy: 0.9991 - loss: 0.0017 - val_binary_accuracy: 0.9988 - val_loss: 0.0014\n",
      "Epoch 47/100\n",
      "\u001b[1m1435/1435\u001b[0m \u001b[32m━━━━━━━━━━━━━━━━━━━━\u001b[0m\u001b[37m\u001b[0m \u001b[1m2s\u001b[0m 1ms/step - binary_accuracy: 0.9975 - loss: 0.0073 - val_binary_accuracy: 0.9976 - val_loss: 0.0063\n",
      "Epoch 48/100\n",
      "\u001b[1m1435/1435\u001b[0m \u001b[32m━━━━━━━━━━━━━━━━━━━━\u001b[0m\u001b[37m\u001b[0m \u001b[1m2s\u001b[0m 1ms/step - binary_accuracy: 0.9983 - loss: 0.0058 - val_binary_accuracy: 0.9988 - val_loss: 0.0019\n",
      "Epoch 49/100\n",
      "\u001b[1m1435/1435\u001b[0m \u001b[32m━━━━━━━━━━━━━━━━━━━━\u001b[0m\u001b[37m\u001b[0m \u001b[1m2s\u001b[0m 1ms/step - binary_accuracy: 0.9985 - loss: 0.0043 - val_binary_accuracy: 0.9988 - val_loss: 0.0015\n",
      "Epoch 50/100\n",
      "\u001b[1m1435/1435\u001b[0m \u001b[32m━━━━━━━━━━━━━━━━━━━━\u001b[0m\u001b[37m\u001b[0m \u001b[1m2s\u001b[0m 1ms/step - binary_accuracy: 0.9981 - loss: 0.0048 - val_binary_accuracy: 0.9988 - val_loss: 0.0015\n",
      "Epoch 51/100\n",
      "\u001b[1m1435/1435\u001b[0m \u001b[32m━━━━━━━━━━━━━━━━━━━━\u001b[0m\u001b[37m\u001b[0m \u001b[1m2s\u001b[0m 1ms/step - binary_accuracy: 0.9978 - loss: 0.0070 - val_binary_accuracy: 0.9988 - val_loss: 0.0015\n",
      "Epoch 52/100\n",
      "\u001b[1m1435/1435\u001b[0m \u001b[32m━━━━━━━━━━━━━━━━━━━━\u001b[0m\u001b[37m\u001b[0m \u001b[1m2s\u001b[0m 1ms/step - binary_accuracy: 0.9962 - loss: 0.0130 - val_binary_accuracy: 0.9988 - val_loss: 0.0016\n",
      "Epoch 53/100\n",
      "\u001b[1m1435/1435\u001b[0m \u001b[32m━━━━━━━━━━━━━━━━━━━━\u001b[0m\u001b[37m\u001b[0m \u001b[1m2s\u001b[0m 1ms/step - binary_accuracy: 0.9993 - loss: 0.0013 - val_binary_accuracy: 0.9988 - val_loss: 0.0014\n",
      "Epoch 54/100\n",
      "\u001b[1m1435/1435\u001b[0m \u001b[32m━━━━━━━━━━━━━━━━━━━━\u001b[0m\u001b[37m\u001b[0m \u001b[1m2s\u001b[0m 1ms/step - binary_accuracy: 0.9910 - loss: 0.0314 - val_binary_accuracy: 0.9988 - val_loss: 0.0019\n",
      "Epoch 55/100\n",
      "\u001b[1m1435/1435\u001b[0m \u001b[32m━━━━━━━━━━━━━━━━━━━━\u001b[0m\u001b[37m\u001b[0m \u001b[1m2s\u001b[0m 1ms/step - binary_accuracy: 0.9955 - loss: 0.0140 - val_binary_accuracy: 0.9941 - val_loss: 0.0268\n",
      "Epoch 56/100\n",
      "\u001b[1m1435/1435\u001b[0m \u001b[32m━━━━━━━━━━━━━━━━━━━━\u001b[0m\u001b[37m\u001b[0m \u001b[1m2s\u001b[0m 1ms/step - binary_accuracy: 0.9964 - loss: 0.0121 - val_binary_accuracy: 0.9988 - val_loss: 0.0018\n",
      "Epoch 57/100\n",
      "\u001b[1m1435/1435\u001b[0m \u001b[32m━━━━━━━━━━━━━━━━━━━━\u001b[0m\u001b[37m\u001b[0m \u001b[1m2s\u001b[0m 2ms/step - binary_accuracy: 0.9988 - loss: 0.0020 - val_binary_accuracy: 0.9988 - val_loss: 0.0015\n",
      "Epoch 58/100\n",
      "\u001b[1m1435/1435\u001b[0m \u001b[32m━━━━━━━━━━━━━━━━━━━━\u001b[0m\u001b[37m\u001b[0m \u001b[1m2s\u001b[0m 2ms/step - binary_accuracy: 0.9980 - loss: 0.0065 - val_binary_accuracy: 0.9988 - val_loss: 0.0016\n",
      "Epoch 59/100\n",
      "\u001b[1m1435/1435\u001b[0m \u001b[32m━━━━━━━━━━━━━━━━━━━━\u001b[0m\u001b[37m\u001b[0m \u001b[1m2s\u001b[0m 2ms/step - binary_accuracy: 0.9988 - loss: 0.0018 - val_binary_accuracy: 0.9988 - val_loss: 0.0014\n",
      "Epoch 60/100\n",
      "\u001b[1m1435/1435\u001b[0m \u001b[32m━━━━━━━━━━━━━━━━━━━━\u001b[0m\u001b[37m\u001b[0m \u001b[1m2s\u001b[0m 2ms/step - binary_accuracy: 0.9957 - loss: 0.0137 - val_binary_accuracy: 0.9988 - val_loss: 0.0022\n",
      "Epoch 61/100\n",
      "\u001b[1m1435/1435\u001b[0m \u001b[32m━━━━━━━━━━━━━━━━━━━━\u001b[0m\u001b[37m\u001b[0m \u001b[1m2s\u001b[0m 2ms/step - binary_accuracy: 0.9988 - loss: 0.0026 - val_binary_accuracy: 0.9988 - val_loss: 0.0015\n",
      "Epoch 62/100\n",
      "\u001b[1m1435/1435\u001b[0m \u001b[32m━━━━━━━━━━━━━━━━━━━━\u001b[0m\u001b[37m\u001b[0m \u001b[1m2s\u001b[0m 1ms/step - binary_accuracy: 0.9989 - loss: 0.0023 - val_binary_accuracy: 0.9988 - val_loss: 0.0044\n",
      "Epoch 63/100\n",
      "\u001b[1m1435/1435\u001b[0m \u001b[32m━━━━━━━━━━━━━━━━━━━━\u001b[0m\u001b[37m\u001b[0m \u001b[1m2s\u001b[0m 1ms/step - binary_accuracy: 0.9987 - loss: 0.0027 - val_binary_accuracy: 0.9988 - val_loss: 0.0014\n",
      "Epoch 64/100\n",
      "\u001b[1m1435/1435\u001b[0m \u001b[32m━━━━━━━━━━━━━━━━━━━━\u001b[0m\u001b[37m\u001b[0m \u001b[1m2s\u001b[0m 1ms/step - binary_accuracy: 0.9962 - loss: 0.0116 - val_binary_accuracy: 0.9988 - val_loss: 0.0015\n",
      "Epoch 65/100\n",
      "\u001b[1m1435/1435\u001b[0m \u001b[32m━━━━━━━━━━━━━━━━━━━━\u001b[0m\u001b[37m\u001b[0m \u001b[1m2s\u001b[0m 1ms/step - binary_accuracy: 0.9986 - loss: 0.0033 - val_binary_accuracy: 0.9988 - val_loss: 0.0016\n",
      "Epoch 66/100\n",
      "\u001b[1m1435/1435\u001b[0m \u001b[32m━━━━━━━━━━━━━━━━━━━━\u001b[0m\u001b[37m\u001b[0m \u001b[1m2s\u001b[0m 1ms/step - binary_accuracy: 0.9989 - loss: 0.0016 - val_binary_accuracy: 0.9988 - val_loss: 0.0014\n",
      "Epoch 67/100\n",
      "\u001b[1m1435/1435\u001b[0m \u001b[32m━━━━━━━━━━━━━━━━━━━━\u001b[0m\u001b[37m\u001b[0m \u001b[1m2s\u001b[0m 1ms/step - binary_accuracy: 0.9990 - loss: 0.0014 - val_binary_accuracy: 0.9988 - val_loss: 0.0013\n",
      "Epoch 68/100\n",
      "\u001b[1m1435/1435\u001b[0m \u001b[32m━━━━━━━━━━━━━━━━━━━━\u001b[0m\u001b[37m\u001b[0m \u001b[1m2s\u001b[0m 2ms/step - binary_accuracy: 0.9953 - loss: 0.0177 - val_binary_accuracy: 0.9988 - val_loss: 0.0016\n",
      "Epoch 69/100\n",
      "\u001b[1m1435/1435\u001b[0m \u001b[32m━━━━━━━━━━━━━━━━━━━━\u001b[0m\u001b[37m\u001b[0m \u001b[1m2s\u001b[0m 1ms/step - binary_accuracy: 0.9990 - loss: 0.0017 - val_binary_accuracy: 0.9988 - val_loss: 0.0014\n",
      "Epoch 70/100\n",
      "\u001b[1m1435/1435\u001b[0m \u001b[32m━━━━━━━━━━━━━━━━━━━━\u001b[0m\u001b[37m\u001b[0m \u001b[1m2s\u001b[0m 2ms/step - binary_accuracy: 0.9975 - loss: 0.0076 - val_binary_accuracy: 0.9988 - val_loss: 0.0017\n",
      "Epoch 71/100\n",
      "\u001b[1m1435/1435\u001b[0m \u001b[32m━━━━━━━━━━━━━━━━━━━━\u001b[0m\u001b[37m\u001b[0m \u001b[1m2s\u001b[0m 2ms/step - binary_accuracy: 0.9986 - loss: 0.0026 - val_binary_accuracy: 0.9988 - val_loss: 0.0015\n",
      "Epoch 72/100\n",
      "\u001b[1m1435/1435\u001b[0m \u001b[32m━━━━━━━━━━━━━━━━━━━━\u001b[0m\u001b[37m\u001b[0m \u001b[1m2s\u001b[0m 2ms/step - binary_accuracy: 0.9992 - loss: 0.0013 - val_binary_accuracy: 0.9988 - val_loss: 0.0014\n",
      "Epoch 73/100\n",
      "\u001b[1m1435/1435\u001b[0m \u001b[32m━━━━━━━━━━━━━━━━━━━━\u001b[0m\u001b[37m\u001b[0m \u001b[1m2s\u001b[0m 2ms/step - binary_accuracy: 0.9988 - loss: 0.0020 - val_binary_accuracy: 0.9888 - val_loss: 0.0412\n",
      "Epoch 74/100\n",
      "\u001b[1m1435/1435\u001b[0m \u001b[32m━━━━━━━━━━━━━━━━━━━━\u001b[0m\u001b[37m\u001b[0m \u001b[1m2s\u001b[0m 2ms/step - binary_accuracy: 0.9986 - loss: 0.0054 - val_binary_accuracy: 0.9988 - val_loss: 0.0014\n",
      "Epoch 75/100\n",
      "\u001b[1m1435/1435\u001b[0m \u001b[32m━━━━━━━━━━━━━━━━━━━━\u001b[0m\u001b[37m\u001b[0m \u001b[1m2s\u001b[0m 2ms/step - binary_accuracy: 0.9991 - loss: 0.0015 - val_binary_accuracy: 0.9988 - val_loss: 0.0013\n",
      "Epoch 76/100\n",
      "\u001b[1m1435/1435\u001b[0m \u001b[32m━━━━━━━━━━━━━━━━━━━━\u001b[0m\u001b[37m\u001b[0m \u001b[1m2s\u001b[0m 2ms/step - binary_accuracy: 0.9988 - loss: 0.0016 - val_binary_accuracy: 0.9306 - val_loss: 0.2769\n",
      "Epoch 77/100\n",
      "\u001b[1m1435/1435\u001b[0m \u001b[32m━━━━━━━━━━━━━━━━━━━━\u001b[0m\u001b[37m\u001b[0m \u001b[1m2s\u001b[0m 2ms/step - binary_accuracy: 0.9810 - loss: 0.0598 - val_binary_accuracy: 1.0000 - val_loss: 9.8311e-04\n",
      "Epoch 78/100\n",
      "\u001b[1m1435/1435\u001b[0m \u001b[32m━━━━━━━━━━━━━━━━━━━━\u001b[0m\u001b[37m\u001b[0m \u001b[1m2s\u001b[0m 2ms/step - binary_accuracy: 1.0000 - loss: 4.1318e-04 - val_binary_accuracy: 1.0000 - val_loss: 1.1741e-04\n",
      "Epoch 79/100\n",
      "\u001b[1m1435/1435\u001b[0m \u001b[32m━━━━━━━━━━━━━━━━━━━━\u001b[0m\u001b[37m\u001b[0m \u001b[1m2s\u001b[0m 2ms/step - binary_accuracy: 1.0000 - loss: 7.5345e-05 - val_binary_accuracy: 1.0000 - val_loss: 4.2105e-05\n",
      "Epoch 80/100\n",
      "\u001b[1m1435/1435\u001b[0m \u001b[32m━━━━━━━━━━━━━━━━━━━━\u001b[0m\u001b[37m\u001b[0m \u001b[1m2s\u001b[0m 2ms/step - binary_accuracy: 1.0000 - loss: 2.7384e-05 - val_binary_accuracy: 1.0000 - val_loss: 1.6529e-05\n",
      "Epoch 81/100\n",
      "\u001b[1m1435/1435\u001b[0m \u001b[32m━━━━━━━━━━━━━━━━━━━━\u001b[0m\u001b[37m\u001b[0m \u001b[1m2s\u001b[0m 2ms/step - binary_accuracy: 1.0000 - loss: 1.2633e-05 - val_binary_accuracy: 1.0000 - val_loss: 7.0976e-06\n",
      "Epoch 82/100\n",
      "\u001b[1m1435/1435\u001b[0m \u001b[32m━━━━━━━━━━━━━━━━━━━━\u001b[0m\u001b[37m\u001b[0m \u001b[1m2s\u001b[0m 2ms/step - binary_accuracy: 1.0000 - loss: 5.7699e-06 - val_binary_accuracy: 1.0000 - val_loss: 3.0051e-06\n",
      "Epoch 83/100\n",
      "\u001b[1m1435/1435\u001b[0m \u001b[32m━━━━━━━━━━━━━━━━━━━━\u001b[0m\u001b[37m\u001b[0m \u001b[1m2s\u001b[0m 2ms/step - binary_accuracy: 1.0000 - loss: 2.4682e-06 - val_binary_accuracy: 1.0000 - val_loss: 1.3851e-06\n",
      "Epoch 84/100\n",
      "\u001b[1m1435/1435\u001b[0m \u001b[32m━━━━━━━━━━━━━━━━━━━━\u001b[0m\u001b[37m\u001b[0m \u001b[1m2s\u001b[0m 2ms/step - binary_accuracy: 1.0000 - loss: 1.1289e-06 - val_binary_accuracy: 1.0000 - val_loss: 6.5745e-07\n",
      "Epoch 85/100\n",
      "\u001b[1m1435/1435\u001b[0m \u001b[32m━━━━━━━━━━━━━━━━━━━━\u001b[0m\u001b[37m\u001b[0m \u001b[1m2s\u001b[0m 2ms/step - binary_accuracy: 1.0000 - loss: 5.3359e-07 - val_binary_accuracy: 1.0000 - val_loss: 2.8244e-07\n",
      "Epoch 86/100\n",
      "\u001b[1m1435/1435\u001b[0m \u001b[32m━━━━━━━━━━━━━━━━━━━━\u001b[0m\u001b[37m\u001b[0m \u001b[1m2s\u001b[0m 2ms/step - binary_accuracy: 1.0000 - loss: 2.3089e-07 - val_binary_accuracy: 1.0000 - val_loss: 1.2757e-07\n",
      "Epoch 87/100\n",
      "\u001b[1m1435/1435\u001b[0m \u001b[32m━━━━━━━━━━━━━━━━━━━━\u001b[0m\u001b[37m\u001b[0m \u001b[1m3s\u001b[0m 2ms/step - binary_accuracy: 1.0000 - loss: 1.0269e-07 - val_binary_accuracy: 1.0000 - val_loss: 6.6964e-08\n",
      "Epoch 88/100\n",
      "\u001b[1m1435/1435\u001b[0m \u001b[32m━━━━━━━━━━━━━━━━━━━━\u001b[0m\u001b[37m\u001b[0m \u001b[1m2s\u001b[0m 2ms/step - binary_accuracy: 1.0000 - loss: 5.1285e-08 - val_binary_accuracy: 1.0000 - val_loss: 3.5038e-07\n",
      "Epoch 89/100\n",
      "\u001b[1m1435/1435\u001b[0m \u001b[32m━━━━━━━━━━━━━━━━━━━━\u001b[0m\u001b[37m\u001b[0m \u001b[1m2s\u001b[0m 2ms/step - binary_accuracy: 0.9938 - loss: 0.0421 - val_binary_accuracy: 1.0000 - val_loss: 4.7192e-05\n",
      "Epoch 90/100\n",
      "\u001b[1m1435/1435\u001b[0m \u001b[32m━━━━━━━━━━━━━━━━━━━━\u001b[0m\u001b[37m\u001b[0m \u001b[1m2s\u001b[0m 1ms/step - binary_accuracy: 1.0000 - loss: 3.0748e-05 - val_binary_accuracy: 1.0000 - val_loss: 1.6272e-05\n",
      "Epoch 91/100\n"
     ]
    },
    {
     "name": "stdout",
     "output_type": "stream",
     "text": [
      "\u001b[1m1435/1435\u001b[0m \u001b[32m━━━━━━━━━━━━━━━━━━━━\u001b[0m\u001b[37m\u001b[0m \u001b[1m2s\u001b[0m 1ms/step - binary_accuracy: 1.0000 - loss: 1.2751e-05 - val_binary_accuracy: 1.0000 - val_loss: 9.6966e-06\n",
      "Epoch 92/100\n",
      "\u001b[1m1435/1435\u001b[0m \u001b[32m━━━━━━━━━━━━━━━━━━━━\u001b[0m\u001b[37m\u001b[0m \u001b[1m2s\u001b[0m 1ms/step - binary_accuracy: 1.0000 - loss: 7.4769e-06 - val_binary_accuracy: 1.0000 - val_loss: 5.4740e-06\n",
      "Epoch 93/100\n",
      "\u001b[1m1435/1435\u001b[0m \u001b[32m━━━━━━━━━━━━━━━━━━━━\u001b[0m\u001b[37m\u001b[0m \u001b[1m2s\u001b[0m 1ms/step - binary_accuracy: 1.0000 - loss: 4.5033e-06 - val_binary_accuracy: 1.0000 - val_loss: 3.3504e-06\n",
      "Epoch 94/100\n",
      "\u001b[1m1435/1435\u001b[0m \u001b[32m━━━━━━━━━━━━━━━━━━━━\u001b[0m\u001b[37m\u001b[0m \u001b[1m2s\u001b[0m 1ms/step - binary_accuracy: 1.0000 - loss: 2.5595e-06 - val_binary_accuracy: 1.0000 - val_loss: 1.8322e-06\n",
      "Epoch 95/100\n",
      "\u001b[1m1435/1435\u001b[0m \u001b[32m━━━━━━━━━━━━━━━━━━━━\u001b[0m\u001b[37m\u001b[0m \u001b[1m2s\u001b[0m 1ms/step - binary_accuracy: 1.0000 - loss: 1.5705e-06 - val_binary_accuracy: 1.0000 - val_loss: 1.0586e-06\n",
      "Epoch 96/100\n",
      "\u001b[1m1435/1435\u001b[0m \u001b[32m━━━━━━━━━━━━━━━━━━━━\u001b[0m\u001b[37m\u001b[0m \u001b[1m2s\u001b[0m 1ms/step - binary_accuracy: 1.0000 - loss: 9.0785e-07 - val_binary_accuracy: 1.0000 - val_loss: 5.7373e-07\n",
      "Epoch 97/100\n",
      "\u001b[1m1435/1435\u001b[0m \u001b[32m━━━━━━━━━━━━━━━━━━━━\u001b[0m\u001b[37m\u001b[0m \u001b[1m2s\u001b[0m 1ms/step - binary_accuracy: 1.0000 - loss: 4.7564e-07 - val_binary_accuracy: 1.0000 - val_loss: 3.1396e-07\n",
      "Epoch 98/100\n",
      "\u001b[1m1435/1435\u001b[0m \u001b[32m━━━━━━━━━━━━━━━━━━━━\u001b[0m\u001b[37m\u001b[0m \u001b[1m2s\u001b[0m 1ms/step - binary_accuracy: 1.0000 - loss: 2.7634e-07 - val_binary_accuracy: 1.0000 - val_loss: 1.7729e-07\n",
      "Epoch 99/100\n",
      "\u001b[1m1435/1435\u001b[0m \u001b[32m━━━━━━━━━━━━━━━━━━━━\u001b[0m\u001b[37m\u001b[0m \u001b[1m2s\u001b[0m 1ms/step - binary_accuracy: 1.0000 - loss: 1.3676e-07 - val_binary_accuracy: 1.0000 - val_loss: 7.7405e-08\n",
      "Epoch 100/100\n",
      "\u001b[1m1435/1435\u001b[0m \u001b[32m━━━━━━━━━━━━━━━━━━━━\u001b[0m\u001b[37m\u001b[0m \u001b[1m2s\u001b[0m 1ms/step - binary_accuracy: 1.0000 - loss: 6.9131e-08 - val_binary_accuracy: 1.0000 - val_loss: 3.8327e-08\n"
     ]
    }
   ],
   "source": [
    "history = model.fit(X_train, y_train, validation_data=(X_validation, y_validation), epochs=100)"
   ]
  },
  {
   "cell_type": "code",
   "execution_count": 162,
   "id": "1e7f24bc",
   "metadata": {},
   "outputs": [],
   "source": [
    "prediction = model.predict(X_test, verbose=0)"
   ]
  },
  {
   "cell_type": "code",
   "execution_count": 163,
   "id": "ae75ee1f",
   "metadata": {},
   "outputs": [
    {
     "name": "stdout",
     "output_type": "stream",
     "text": [
      "[1.]\n"
     ]
    },
    {
     "data": {
      "image/png": "[encoded data removed]",
      "text/plain": [
       "<Figure size 640x480 with 1 Axes>"
      ]
     },
     "metadata": {},
     "output_type": "display_data"
    }
   ],
   "source": [
    "plt.plot(X_test[78])\n",
    "plt.scatter(np.argmax(X_test[78]), max(X_test[78]), c='r')\n",
    "print(prediction[78])"
   ]
  },
  {
   "cell_type": "code",
   "execution_count": 164,
   "id": "8a3886d3",
   "metadata": {},
   "outputs": [
    {
     "name": "stdout",
     "output_type": "stream",
     "text": [
      "[4.328364e-10]\n"
     ]
    },
    {
     "data": {
      "image/png": "[encoded data removed]",
      "text/plain": [
       "<Figure size 640x480 with 1 Axes>"
      ]
     },
     "metadata": {},
     "output_type": "display_data"
    }
   ],
   "source": [
    "plt.plot(X_test[62])\n",
    "plt.scatter(np.argmax(X_test[62]), max(X_test[62]), c='r')\n",
    "print(prediction[62])"
   ]
  },
  {
   "cell_type": "code",
   "execution_count": 175,
   "id": "2e9096c4",
   "metadata": {},
   "outputs": [
    {
     "name": "stderr",
     "output_type": "stream",
     "text": [
      "WARNING:absl:You are saving your model as an HDF5 file via `model.save()` or `keras.saving.save_model(model)`. This file format is considered legacy. We recommend using instead the native Keras format, e.g. `model.save('my_model.keras')` or `keras.saving.save_model(model, 'my_model.keras')`. \n"
     ]
    }
   ],
   "source": [
    "model.save(\"model.h5\")"
   ]
  },
  {
   "cell_type": "code",
   "execution_count": null,
   "id": "caee0bdb",
   "metadata": {},
   "outputs": [],
   "source": []
  }
 ],
 "metadata": {
  "kernelspec": {
   "display_name": "Python 3 (ipykernel)",
   "language": "python",
   "name": "python3"
  },
  "language_info": {
   "codemirror_mode": {
    "name": "ipython",
    "version": 3
   },
   "file_extension": ".py",
   "mimetype": "text/x-python",
   "name": "python",
   "nbconvert_exporter": "python",
   "pygments_lexer": "ipython3",
   "version": "3.9.13"
  }
 },
 "nbformat": 4,
 "nbformat_minor": 5
}
